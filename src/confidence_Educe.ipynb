{
 "cells": [
  {
   "cell_type": "code",
   "execution_count": 1,
   "id": "6df08df7",
   "metadata": {},
   "outputs": [],
   "source": [
    "# -*- coding:utf-8 -*-\n",
    "import os, time, re, torch, math\n",
    "import numpy as np\n",
    "from collections import defaultdict\n",
    "from tqdm import tqdm"
   ]
  },
  {
   "cell_type": "code",
   "execution_count": 2,
   "id": "c4dc14ab",
   "metadata": {},
   "outputs": [],
   "source": [
    "e2i, r2i = {}, {}\n",
    "with open('datasets/umls/entities.txt') as e:\n",
    "    for line in e:\n",
    "        e2i[line.strip()] = len(e2i)\n",
    "\n",
    "i = 0\n",
    "with open('datasets/umls/relations.txt') as r:\n",
    "    for line in r:\n",
    "        r2i[line.strip()] = i\n",
    "        r2i['inv_' + line.strip()] = i+1\n",
    "        r2i[line.strip() + '_inv'] = i+1\n",
    "        i += 2\n",
    "r2i['no_jump'] = i\n",
    "r2i['no_jump_inv'] = i+1\n",
    "r2i['inv_no_jump'] = i+1\n",
    "i += 2\n",
    "\n",
    "neigs = [[] for _ in range(i)]\n",
    "with open('datasets/umls/all.txt') as f:\n",
    "    for line in f:\n",
    "        h,r,t = line.strip().split()\n",
    "        h,r,r_inv,t = e2i[h],r2i[r],r2i['inv_'+r],e2i[t]\n",
    "        neigs[r].append((h,t))\n",
    "        neigs[r_inv].append((t,h))\n",
    "for i in range(len(e2i)):\n",
    "    neigs[r2i['no_jump']].append((i,i))\n",
    "    neigs[r2i['no_jump_inv']].append((i,i))\n",
    "\n",
    "av_ents = {}\n",
    "with open('datasets/umls/train.txt') as f:\n",
    "    for line in f:\n",
    "        h,a,v = line.strip().split(\"\\t\")\n",
    "        h,a,v = e2i[h], r2i[a], e2i[v]\n",
    "        try:\n",
    "            av_ents[(a,v)][h] = 1\n",
    "        except KeyError:\n",
    "            av_ents[(a,v)] = torch.zeros(len(e2i))\n",
    "for key in av_ents.keys():\n",
    "    av_ents[key] = av_ents[key].cuda().to_sparse()\n",
    "\n",
    "cnt = max([len(lis) for lis in neigs])\n",
    "ones = torch.ones(cnt)\n",
    "neigs = [torch.LongTensor(lis).T for lis in neigs]\n",
    "neigs = [torch.sparse.LongTensor(pos, ones[:pos.size(1)], torch.Size([len(e2i),len(e2i)])).coalesce().cpu() for pos in neigs]\n",
    "# neigs = [torch.sparse.LongTensor(pos, ones[:pos.size(1)], torch.Size([len(e2i),len(e2i)])).to_dense().cuda() for pos in neigs]\n"
   ]
  },
  {
   "cell_type": "code",
   "execution_count": 3,
   "id": "3dca037c",
   "metadata": {},
   "outputs": [],
   "source": [
    "filt = []\n",
    "with open('exps/umls-3-rule/rulesXXXX') as f:\n",
    "    for line in f:\n",
    "        tmp = line.strip().split('<-')\n",
    "        cnt = int(tmp[0].split('-')[0])\n",
    "        wei = float(tmp[0].split('-')[1])\n",
    "        rela = tmp[1].strip()\n",
    "        filt.append((line, cnt, wei))\n",
    "\n",
    "# for UMLS and Family-gender\n",
    "filt = sorted(filt, key=lambda x: -(x[2] * ((x[1] > 80) + 1)))\n",
    "# for FB15K237\n",
    "# filt = sorted(filt, key=lambda x: -(x[2] * ((x[1] > 300) - (x[1] < 20) + 5)))\n",
    "\n",
    "lines = []\n",
    "for i in range(400):\n",
    "    lines.append(filt[i][0])\n"
   ]
  },
  {
   "cell_type": "code",
   "execution_count": 4,
   "id": "93c04033",
   "metadata": {},
   "outputs": [
    {
     "name": "stdout",
     "output_type": "stream",
     "text": [
      "计算confidence: 100%|██████████| 400/400 [3:12<00:00, 2.08it/s]\n"
     ]
    }
   ],
   "source": [
    "# filter始、终节点\n",
    "# dic = defaultdict(list)\n",
    "inv = re.compile('_inv_inv')\n",
    "quot = re.compile(\"'\")\n",
    "ones = torch.ones(len(e2i)).cuda().to_sparse()\n",
    "rules = []\n",
    "# with open('exps/18rr-3-rule/rulesXXXX') as f:\n",
    "if True:\n",
    "    lines = f.readlines()\n",
    "    lines = [quot.sub('',inv.sub('', line)) for line in lines]\n",
    "    for index,line in enumerate(tqdm(lines, desc='计算confidence')):\n",
    "        w,rela,rule = line.strip().split('<-')\n",
    "        rela = r2i[inv.sub('', rela+'_inv')]\n",
    "        rule = [p.strip() for p in rule.strip().split('^')[:-1]]\n",
    "        for i in range(len(rule)):\n",
    "            if '(' in rule[i]:\n",
    "                limits = (rule[i].split('(')[1]).split('&')[:-1]\n",
    "                rule[i] = [rule[i].split('(')[0].strip(), ones.clone()]\n",
    "                for limit in limits:\n",
    "                    limit_ents = ((limit.split('[')[1]).split(']')[0]).split(', ')\n",
    "                    limit = limit.split('-')[0]\n",
    "                    for limit_ent in limit_ents:\n",
    "                        rule[i][1] *= av_ents[(r2i[limit], e2i[limit_ent])]\n",
    "            else:\n",
    "                rule[i] = (rule[i].strip(), None)\n",
    "        \n",
    "        for i in range(len(rule)):\n",
    "            if i == 0:\n",
    "                path = neigs[r2i[rule[i][0]]].clone()\n",
    "            else:\n",
    "                path = torch.sparse.mm(path, neigs[r2i[rule[i][0]]])\n",
    "            if rule[i][1] != None:\n",
    "                path = path.to_dense() * rule[i][1].to_dense()\n",
    "                path = path.to_sparse()\n",
    "        \n",
    "        cnt1 = torch.sum(path.coalesce().values().bool())\n",
    "        cnt2 = torch.sum(path.to_dense().bool()[neigs[rela].indices().cpu().numpy()])\n",
    "        \n",
    "        rules.append(  ((cnt2/cnt1).item() if cnt1!=0 else 0, str(index)+line)  )\n",
    "\n",
    "        path = cnt1 = cnt2 = None\n",
    "        torch.cuda.empty_cache()\n"
   ]
  },
  {
   "cell_type": "code",
   "execution_count": 5,
   "id": "7f9d89cf",
   "metadata": {},
   "outputs": [
    {
     "name": "stdout",
     "output_type": "stream",
     "text": [
      "Top@50:0.5462   Top@100:0.3864   Top@200:0.4241   "
     ]
    }
   ],
   "source": [
    "cons = []\n",
    "for i in range(400):\n",
    "    cons.append(rules[i][0])\n",
    "\n",
    "for i in [50,100,200]:\n",
    "    print('Top@{}:{:.4f}'.format(i, sum(cons[:i])/i), end='   ')\n",
    "    print(f'Top@{i}:{sum(cons[:i])/i}  ', end='')"
   ]
  },
  {
   "cell_type": "code",
   "execution_count": 6,
   "id": "414bafa1",
   "metadata": {},
   "outputs": [
    {
     "name": "stdout",
     "output_type": "stream",
     "text": [
      "[244, 30, 161]\n"
     ]
    }
   ],
   "source": [
    "confidence = np.array([x[0] for x in rules])\n",
    "print([sum(confidence < x) for x in [0.3,0.6,1.1]])"
   ]
  }
 ],
 "metadata": {
  "kernelspec": {
   "display_name": "Python 3 (ipykernel)",
   "language": "python",
   "name": "python3"
  },
  "language_info": {
   "codemirror_mode": {
    "name": "ipython",
    "version": 3
   },
   "file_extension": ".py",
   "mimetype": "text/x-python",
   "name": "python",
   "nbconvert_exporter": "python",
   "pygments_lexer": "ipython3",
   "version": "3.9.0"
  }
 },
 "nbformat": 4,
 "nbformat_minor": 5
}
